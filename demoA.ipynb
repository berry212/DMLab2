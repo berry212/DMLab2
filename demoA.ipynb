{
 "cells": [
  {
   "cell_type": "code",
   "execution_count": 2,
   "metadata": {},
   "outputs": [],
   "source": [
    "import pandas as pd\n",
    "import numpy as np\n",
    "\n",
    "df = pd.read_excel('data.xlsx')"
   ]
  },
  {
   "cell_type": "code",
   "execution_count": 60,
   "metadata": {},
   "outputs": [
    {
     "data": {
      "text/html": [
       "<div>\n",
       "<style scoped>\n",
       "    .dataframe tbody tr th:only-of-type {\n",
       "        vertical-align: middle;\n",
       "    }\n",
       "\n",
       "    .dataframe tbody tr th {\n",
       "        vertical-align: top;\n",
       "    }\n",
       "\n",
       "    .dataframe thead th {\n",
       "        text-align: right;\n",
       "    }\n",
       "</style>\n",
       "<table border=\"1\" class=\"dataframe\">\n",
       "  <thead>\n",
       "    <tr style=\"text-align: right;\">\n",
       "      <th></th>\n",
       "      <th>序号</th>\n",
       "      <th>来源详情</th>\n",
       "      <th>您宝宝的性别</th>\n",
       "      <th>您的宝宝的出生日期：</th>\n",
       "      <th>(1)您有几个孩子</th>\n",
       "      <th>(2)个孩子，这是您的第___个孩子</th>\n",
       "      <th>宝宝的主要抚养人</th>\n",
       "      <th>请问宝宝的家庭类型是</th>\n",
       "      <th>宝宝母亲的年龄（周岁）</th>\n",
       "      <th>宝宝母亲的文化程度:</th>\n",
       "      <th>...</th>\n",
       "      <th>拥有足量的与年龄适宜的玩具</th>\n",
       "      <th>对孩子任何事情都要干涉</th>\n",
       "      <th>给孩子的诉说、表达或申辩的机会</th>\n",
       "      <th>带孩子到商店、公园</th>\n",
       "      <th>赞赏孩子的好奇心，有意识培养孩子兴趣</th>\n",
       "      <th>无端向孩子发脾气</th>\n",
       "      <th>有意识帮助孩子认知事物，扩大词汇</th>\n",
       "      <th>保持孩子活动的房间清洁、整齐</th>\n",
       "      <th>对孩子的需求能够作出及时的回应.1</th>\n",
       "      <th>总分</th>\n",
       "    </tr>\n",
       "  </thead>\n",
       "  <tbody>\n",
       "    <tr>\n",
       "      <th>0</th>\n",
       "      <td>1</td>\n",
       "      <td>0</td>\n",
       "      <td>男</td>\n",
       "      <td>2023-06-20</td>\n",
       "      <td>1</td>\n",
       "      <td>2</td>\n",
       "      <td>保姆阿姨</td>\n",
       "      <td>联合家庭（宝宝、父母、祖父母（或外祖父母）三代一起居住）</td>\n",
       "      <td>23</td>\n",
       "      <td>初中及以下</td>\n",
       "      <td>...</td>\n",
       "      <td>(跳过)</td>\n",
       "      <td>(跳过)</td>\n",
       "      <td>(跳过)</td>\n",
       "      <td>(跳过)</td>\n",
       "      <td>(跳过)</td>\n",
       "      <td>(跳过)</td>\n",
       "      <td>(跳过)</td>\n",
       "      <td>(跳过)</td>\n",
       "      <td>(跳过)</td>\n",
       "      <td>62</td>\n",
       "    </tr>\n",
       "  </tbody>\n",
       "</table>\n",
       "<p>1 rows × 142 columns</p>\n",
       "</div>"
      ],
      "text/plain": [
       "  序号 来源详情 您宝宝的性别  您的宝宝的出生日期： (1)您有几个孩子 (2)个孩子，这是您的第___个孩子 宝宝的主要抚养人  \\\n",
       "0  1    0      男  2023-06-20         1                  2     保姆阿姨   \n",
       "\n",
       "                     请问宝宝的家庭类型是 宝宝母亲的年龄（周岁） 宝宝母亲的文化程度:  ... 拥有足量的与年龄适宜的玩具  \\\n",
       "0  联合家庭（宝宝、父母、祖父母（或外祖父母）三代一起居住）          23      初中及以下  ...          (跳过)   \n",
       "\n",
       "  对孩子任何事情都要干涉 给孩子的诉说、表达或申辩的机会 带孩子到商店、公园 赞赏孩子的好奇心，有意识培养孩子兴趣 无端向孩子发脾气  \\\n",
       "0        (跳过)            (跳过)      (跳过)               (跳过)     (跳过)   \n",
       "\n",
       "  有意识帮助孩子认知事物，扩大词汇 保持孩子活动的房间清洁、整齐 对孩子的需求能够作出及时的回应.1  总分  \n",
       "0             (跳过)           (跳过)              (跳过)  62  \n",
       "\n",
       "[1 rows x 142 columns]"
      ]
     },
     "execution_count": 60,
     "metadata": {},
     "output_type": "execute_result"
    }
   ],
   "source": [
    "df.head(1)"
   ]
  },
  {
   "cell_type": "code",
   "execution_count": 61,
   "metadata": {},
   "outputs": [
    {
     "data": {
      "text/plain": [
       "(52640, 142)"
      ]
     },
     "execution_count": 61,
     "metadata": {},
     "output_type": "execute_result"
    }
   ],
   "source": [
    "df.shape"
   ]
  },
  {
   "cell_type": "code",
   "execution_count": 62,
   "metadata": {},
   "outputs": [
    {
     "data": {
      "text/plain": [
       "Index(['序号', '来源详情', '您宝宝的性别', '您的宝宝的出生日期：', '(1)您有几个孩子', '(2)个孩子，这是您的第___个孩子',\n",
       "       '宝宝的主要抚养人', '请问宝宝的家庭类型是', '宝宝母亲的年龄（周岁）', '宝宝母亲的文化程度:',\n",
       "       ...\n",
       "       '拥有足量的与年龄适宜的玩具', '对孩子任何事情都要干涉', '给孩子的诉说、表达或申辩的机会', '带孩子到商店、公园',\n",
       "       '赞赏孩子的好奇心，有意识培养孩子兴趣', '无端向孩子发脾气', '有意识帮助孩子认知事物，扩大词汇', '保持孩子活动的房间清洁、整齐',\n",
       "       '对孩子的需求能够作出及时的回应.1', '总分'],\n",
       "      dtype='object', length=142)"
      ]
     },
     "execution_count": 62,
     "metadata": {},
     "output_type": "execute_result"
    }
   ],
   "source": [
    "df.columns"
   ]
  },
  {
   "cell_type": "markdown",
   "metadata": {},
   "source": [
    "# 数据预处理"
   ]
  },
  {
   "cell_type": "code",
   "execution_count": 63,
   "metadata": {},
   "outputs": [
    {
     "name": "stdout",
     "output_type": "stream",
     "text": [
      "总实例数 52640\n"
     ]
    }
   ],
   "source": [
    "print('总实例数', df.shape[0])\n",
    "nullValue = df.isnull().sum()\n",
    "for i in range(len(nullValue)):\n",
    "    if nullValue[i] != 0 :\n",
    "        print('缺失特征名:', df.columns[i], '\\n缺失:', nullValue[i])"
   ]
  },
  {
   "cell_type": "markdown",
   "metadata": {},
   "source": [
    "缺失值填充，`来源详情` 的 `NAN` 填充为 `0`"
   ]
  },
  {
   "cell_type": "code",
   "execution_count": 64,
   "metadata": {},
   "outputs": [
    {
     "data": {
      "text/plain": [
       "序号                   False\n",
       "来源详情                 False\n",
       "您宝宝的性别               False\n",
       "您的宝宝的出生日期：           False\n",
       "(1)您有几个孩子            False\n",
       "                     ...  \n",
       "无端向孩子发脾气             False\n",
       "有意识帮助孩子认知事物，扩大词汇     False\n",
       "保持孩子活动的房间清洁、整齐       False\n",
       "对孩子的需求能够作出及时的回应.1    False\n",
       "总分                   False\n",
       "Length: 142, dtype: bool"
      ]
     },
     "execution_count": 64,
     "metadata": {},
     "output_type": "execute_result"
    }
   ],
   "source": [
    "df.fillna(0, axis=1, inplace=True)\n",
    "df.isnull().any()"
   ]
  },
  {
   "cell_type": "markdown",
   "metadata": {},
   "source": [
    "序号和出生日期是无用的，删去这两列\n",
    "\n",
    "分割目标列，总分"
   ]
  },
  {
   "cell_type": "code",
   "execution_count": 65,
   "metadata": {},
   "outputs": [],
   "source": [
    "df_drop = df.drop(columns=['序号', '您的宝宝的出生日期：'], axis=1)\n",
    "\n",
    "data = df_drop.drop('总分', axis=1)\n",
    "target = df_drop['总分']\n",
    "\n",
    "feature = data.columns"
   ]
  },
  {
   "cell_type": "markdown",
   "metadata": {},
   "source": [
    "输出每一个问题的答案种类到文件 `value.txt`"
   ]
  },
  {
   "cell_type": "code",
   "execution_count": 66,
   "metadata": {},
   "outputs": [],
   "source": [
    "def saveUnique(df, feature, fileName):\n",
    "    file = open(fileName, 'w+', encoding='utf-8')\n",
    "    for i in feature:\n",
    "        print(df[i].unique(), file=file)\n",
    "    file.close()\n",
    "\n",
    "def lookUnique(df, feature):\n",
    "    unq = []\n",
    "    for i in feature:\n",
    "        print(df[i].unique())\n",
    "\n",
    "\n",
    "saveUnique(data, feature, 'value.txt')"
   ]
  },
  {
   "cell_type": "code",
   "execution_count": 67,
   "metadata": {},
   "outputs": [],
   "source": [
    "decoder = lambda a : dict(zip( a, range(len(a)) ))\n",
    "dicList = [\n",
    "    decoder([0, '直接访问']),\n",
    "    decoder(['男', '女']),\n",
    "    {'1':1, '2':2, '3':3, '一':1, '二':2, '三':3, '俩':2, '两':2, '两个':2, '一个':1, '4':4,\n",
    "     '四':4, '5':5, '五':5, '三个':3, '四个':4, '五个':5}, # (1)您有几个孩子\n",
    "    {'1':1, '2':2, '3':3, '一':1, '二':2, '三':3, '俩':2, '两':2, '两个':2, '一个':1, '4':4,\n",
    "     '四':4, '5':5, '五':5, '三个':3, '四个':4, '五个':5, '第一':1, '第一个':1, '第二':2, '第二个':2}, # (2)个孩子，这是您的第___个孩子\n",
    "    {'保姆阿姨':0, '父母':1, '外祖父母或祖父母':2}, # 宝宝的主要抚养人\n",
    "    decoder(['联合家庭（宝宝、父母、祖父母（或外祖父母）三代一起居住）','核心家庭（宝宝与父母一起居住）','其他（单亲、再婚等）']), # 请问宝宝的家庭类型是\n",
    "    {}, # 宝宝母亲的年龄（周岁） \n",
    "    decoder(['初中及以下','本科','大专','高中及中专','研究生','博士生']), # 宝宝母亲的文化程度:\n",
    "    {}, # 宝宝父亲的年龄（周岁）\n",
    "    decoder(['初中及以下','本科','大专','高中及中专','研究生','博士生']), # 宝宝父亲文化的程度:\n",
    "    decoder(['很好','一般','比较差','比较好','很差']), # 最近一年，您家庭经济情况如何:\n",
    "    decoder(['县级市', '涉农区', '城区']), # 您宝宝本次体检的社区属于什么区？\n",
    "    decoder(['0~1岁', '3~6岁', '1~3岁']), # 您的宝宝年龄\n",
    "]\n",
    "\n",
    "len(dicList) # 来源详情 + 基本问题 = 1 + 12\n",
    "for i in range(13):\n",
    "    data.replace({feature[i]:dicList[i]}, inplace=True)"
   ]
  },
  {
   "cell_type": "code",
   "execution_count": 68,
   "metadata": {},
   "outputs": [],
   "source": [
    "saveUnique(data, feature, \"valueA.txt\")"
   ]
  },
  {
   "cell_type": "code",
   "execution_count": 69,
   "metadata": {},
   "outputs": [],
   "source": [
    "opstr = lambda x: 3 if isinstance(x, str) and x.startswith('其他') else (x if isinstance(x, int) else -1)\n",
    "data[feature[4]] = data[feature[4]].apply(opstr)"
   ]
  },
  {
   "cell_type": "code",
   "execution_count": 70,
   "metadata": {},
   "outputs": [],
   "source": [
    "opnum = lambda x: int(x) if isinstance(x, str) and len(x) <= 2 and x.isdigit() else (-1 if isinstance(x, str) else x)\n",
    "for i in [6, 8]:\n",
    "    data[feature[i]] = data[feature[i]].apply(opnum)\n",
    "saveUnique(data, feature, \"valueB.txt\")"
   ]
  },
  {
   "cell_type": "code",
   "execution_count": 71,
   "metadata": {},
   "outputs": [],
   "source": [
    "opinvaild = lambda x: -1 if isinstance(x, str) else x\n",
    "for i in [2, 3]:\n",
    "    data[feature[i]] = data[feature[i]].apply(opinvaild)\n",
    "saveUnique(data, feature, \"valueC.txt\")"
   ]
  },
  {
   "cell_type": "code",
   "execution_count": 72,
   "metadata": {},
   "outputs": [
    {
     "data": {
      "text/html": [
       "<div>\n",
       "<style scoped>\n",
       "    .dataframe tbody tr th:only-of-type {\n",
       "        vertical-align: middle;\n",
       "    }\n",
       "\n",
       "    .dataframe tbody tr th {\n",
       "        vertical-align: top;\n",
       "    }\n",
       "\n",
       "    .dataframe thead th {\n",
       "        text-align: right;\n",
       "    }\n",
       "</style>\n",
       "<table border=\"1\" class=\"dataframe\">\n",
       "  <thead>\n",
       "    <tr style=\"text-align: right;\">\n",
       "      <th></th>\n",
       "      <th>来源详情</th>\n",
       "      <th>您宝宝的性别</th>\n",
       "      <th>(1)您有几个孩子</th>\n",
       "      <th>(2)个孩子，这是您的第___个孩子</th>\n",
       "      <th>宝宝的主要抚养人</th>\n",
       "      <th>请问宝宝的家庭类型是</th>\n",
       "      <th>宝宝母亲的年龄（周岁）</th>\n",
       "      <th>宝宝母亲的文化程度:</th>\n",
       "      <th>宝宝父亲的年龄（周岁）</th>\n",
       "      <th>宝宝父亲文化的程度:</th>\n",
       "      <th>...</th>\n",
       "      <th>经常强迫孩子多吃一点</th>\n",
       "      <th>拥有足量的与年龄适宜的玩具</th>\n",
       "      <th>对孩子任何事情都要干涉</th>\n",
       "      <th>给孩子的诉说、表达或申辩的机会</th>\n",
       "      <th>带孩子到商店、公园</th>\n",
       "      <th>赞赏孩子的好奇心，有意识培养孩子兴趣</th>\n",
       "      <th>无端向孩子发脾气</th>\n",
       "      <th>有意识帮助孩子认知事物，扩大词汇</th>\n",
       "      <th>保持孩子活动的房间清洁、整齐</th>\n",
       "      <th>对孩子的需求能够作出及时的回应.1</th>\n",
       "    </tr>\n",
       "  </thead>\n",
       "  <tbody>\n",
       "    <tr>\n",
       "      <th>0</th>\n",
       "      <td>0</td>\n",
       "      <td>0</td>\n",
       "      <td>1</td>\n",
       "      <td>2</td>\n",
       "      <td>0</td>\n",
       "      <td>0</td>\n",
       "      <td>23</td>\n",
       "      <td>0</td>\n",
       "      <td>36</td>\n",
       "      <td>3</td>\n",
       "      <td>...</td>\n",
       "      <td>(跳过)</td>\n",
       "      <td>(跳过)</td>\n",
       "      <td>(跳过)</td>\n",
       "      <td>(跳过)</td>\n",
       "      <td>(跳过)</td>\n",
       "      <td>(跳过)</td>\n",
       "      <td>(跳过)</td>\n",
       "      <td>(跳过)</td>\n",
       "      <td>(跳过)</td>\n",
       "      <td>(跳过)</td>\n",
       "    </tr>\n",
       "    <tr>\n",
       "      <th>1</th>\n",
       "      <td>0</td>\n",
       "      <td>0</td>\n",
       "      <td>2</td>\n",
       "      <td>2</td>\n",
       "      <td>1</td>\n",
       "      <td>1</td>\n",
       "      <td>30</td>\n",
       "      <td>1</td>\n",
       "      <td>31</td>\n",
       "      <td>3</td>\n",
       "      <td>...</td>\n",
       "      <td>很少</td>\n",
       "      <td>总是</td>\n",
       "      <td>总是</td>\n",
       "      <td>总是</td>\n",
       "      <td>总是</td>\n",
       "      <td>总是</td>\n",
       "      <td>很少</td>\n",
       "      <td>总是</td>\n",
       "      <td>总是</td>\n",
       "      <td>总是</td>\n",
       "    </tr>\n",
       "    <tr>\n",
       "      <th>2</th>\n",
       "      <td>0</td>\n",
       "      <td>1</td>\n",
       "      <td>2</td>\n",
       "      <td>2</td>\n",
       "      <td>1</td>\n",
       "      <td>0</td>\n",
       "      <td>30</td>\n",
       "      <td>2</td>\n",
       "      <td>34</td>\n",
       "      <td>2</td>\n",
       "      <td>...</td>\n",
       "      <td>(跳过)</td>\n",
       "      <td>(跳过)</td>\n",
       "      <td>(跳过)</td>\n",
       "      <td>(跳过)</td>\n",
       "      <td>(跳过)</td>\n",
       "      <td>(跳过)</td>\n",
       "      <td>(跳过)</td>\n",
       "      <td>(跳过)</td>\n",
       "      <td>(跳过)</td>\n",
       "      <td>(跳过)</td>\n",
       "    </tr>\n",
       "  </tbody>\n",
       "</table>\n",
       "<p>3 rows × 139 columns</p>\n",
       "</div>"
      ],
      "text/plain": [
       "   来源详情  您宝宝的性别  (1)您有几个孩子  (2)个孩子，这是您的第___个孩子  宝宝的主要抚养人  请问宝宝的家庭类型是  \\\n",
       "0     0       0          1                   2         0           0   \n",
       "1     0       0          2                   2         1           1   \n",
       "2     0       1          2                   2         1           0   \n",
       "\n",
       "   宝宝母亲的年龄（周岁）  宝宝母亲的文化程度:  宝宝父亲的年龄（周岁）  宝宝父亲文化的程度:  ...  经常强迫孩子多吃一点  \\\n",
       "0           23           0           36           3  ...        (跳过)   \n",
       "1           30           1           31           3  ...          很少   \n",
       "2           30           2           34           2  ...        (跳过)   \n",
       "\n",
       "   拥有足量的与年龄适宜的玩具  对孩子任何事情都要干涉 给孩子的诉说、表达或申辩的机会 带孩子到商店、公园 赞赏孩子的好奇心，有意识培养孩子兴趣  \\\n",
       "0           (跳过)         (跳过)            (跳过)      (跳过)               (跳过)   \n",
       "1             总是           总是              总是        总是                 总是   \n",
       "2           (跳过)         (跳过)            (跳过)      (跳过)               (跳过)   \n",
       "\n",
       "  无端向孩子发脾气 有意识帮助孩子认知事物，扩大词汇 保持孩子活动的房间清洁、整齐 对孩子的需求能够作出及时的回应.1  \n",
       "0     (跳过)             (跳过)           (跳过)              (跳过)  \n",
       "1       很少               总是             总是                总是  \n",
       "2     (跳过)             (跳过)           (跳过)              (跳过)  \n",
       "\n",
       "[3 rows x 139 columns]"
      ]
     },
     "execution_count": 72,
     "metadata": {},
     "output_type": "execute_result"
    }
   ],
   "source": [
    "mask = ~data.isin([-1]).any(axis=1)\n",
    "data = data[mask]\n",
    "data.head(3)"
   ]
  },
  {
   "cell_type": "markdown",
   "metadata": {},
   "source": [
    "删除异常值(离群点)"
   ]
  },
  {
   "cell_type": "code",
   "execution_count": 83,
   "metadata": {},
   "outputs": [],
   "source": [
    "def remove_outliers(df):\n",
    "    # 计算每列的Q1和Q3\n",
    "    Q1 = df.quantile(0.25)\n",
    "    Q3 = df.quantile(0.75)\n",
    "    # 计算IQR\n",
    "    IQR = Q3 - Q1\n",
    "    # 定义离群点的条件\n",
    "    condition = (df < (Q1 - 1.5 * IQR)) | (df > (Q3 + 1.5 * IQR))\n",
    "    # 删除包含离群点的行\n",
    "    df_clean = df[~condition.any(axis=1)]\n",
    "    return df_clean\n",
    "\n",
    "tmp = remove_outliers(data[feature[[6, 8]]])\n",
    "data = data.loc[tmp.index]"
   ]
  },
  {
   "cell_type": "code",
   "execution_count": 84,
   "metadata": {},
   "outputs": [],
   "source": [
    "saveUnique(data, feature, 'result.txt')"
   ]
  },
  {
   "cell_type": "code",
   "execution_count": 85,
   "metadata": {},
   "outputs": [
    {
     "data": {
      "text/plain": [
       "(48927, 139)"
      ]
     },
     "execution_count": 85,
     "metadata": {},
     "output_type": "execute_result"
    }
   ],
   "source": [
    "data.shape"
   ]
  },
  {
   "cell_type": "markdown",
   "metadata": {},
   "source": [
    "将问题的回答映射为分数"
   ]
  },
  {
   "cell_type": "code",
   "execution_count": 86,
   "metadata": {},
   "outputs": [],
   "source": [
    "map = {  \n",
    "    '从不': 1,  \n",
    "    '很少': 2,  \n",
    "    '有时': 3,  \n",
    "    '经常': 4,  \n",
    "    '总是': 5,\n",
    "    '(跳过)' : 0,\n",
    "    '(空)' : 0\n",
    "}  \n",
    "\n",
    "for col in data.columns[13:]:\n",
    "        data[col] = data[col].replace(map)"
   ]
  },
  {
   "cell_type": "markdown",
   "metadata": {},
   "source": [
    "对负面问题赋权重-1"
   ]
  },
  {
   "cell_type": "code",
   "execution_count": 87,
   "metadata": {},
   "outputs": [],
   "source": [
    "negative_col = [\n",
    "    '终日在外忙碌，很少有时间见到孩子',\n",
    "    '把孩子捆扎得很紧，孩子四肢手足难以活动',\n",
    "    '不太喜欢孩子，不愿和孩子在一起',\n",
    "    '为了家庭或孩子的事情争吵、闹别扭',\n",
    "    '当孩子出现与平常不一样的表现便很着急',\n",
    "    '总担心孩子出事，把孩子限制得很死',\n",
    "    '感到带孩子很累、很烦',\n",
    "    '凭自己心情对孩子忽冷忽热',\n",
    "    '感到带孩子很烦、很累',\n",
    "    '用恐怖的意象或故事(如大灰狼)吓唬孩子的自主行为',\n",
    "    '总担心出事，把孩子限制得很死',\n",
    "    '惩罚(叱骂、打屁股、罚站等)孩子',\n",
    "    '不喜欢孩子，不愿和孩子在一起',\n",
    "    '凭自己心情对孩子忽冷忽热.1',\n",
    "    '为家庭或孩子的事情而争吵、闹别扭',\n",
    "    '用恐怖的意象或故事(如大灰狼)吓阻孩子的自主行为',\n",
    "    '凭自己心情对孩子忽冷忽热.2',\n",
    "    '亲子出现敌对或冲突',\n",
    "    '总担心出事，把孩子限制得很死.1',\n",
    "    '感到带孩子很累、很烦.1',\n",
    "    '惩罚(叱骂、打屁股、罚站等)孩子.1',\n",
    "    '为家庭或孩子的事情而争吵',\n",
    "    '经常强迫孩子多吃一点',\n",
    "    '对孩子任何事情都要干涉',\n",
    "    '无端向孩子发脾气'\n",
    "]\n",
    "\n",
    "for col in negative_col:\n",
    "    data[col] *= -1"
   ]
  },
  {
   "cell_type": "code",
   "execution_count": 88,
   "metadata": {},
   "outputs": [
    {
     "data": {
      "text/html": [
       "<div>\n",
       "<style scoped>\n",
       "    .dataframe tbody tr th:only-of-type {\n",
       "        vertical-align: middle;\n",
       "    }\n",
       "\n",
       "    .dataframe tbody tr th {\n",
       "        vertical-align: top;\n",
       "    }\n",
       "\n",
       "    .dataframe thead th {\n",
       "        text-align: right;\n",
       "    }\n",
       "</style>\n",
       "<table border=\"1\" class=\"dataframe\">\n",
       "  <thead>\n",
       "    <tr style=\"text-align: right;\">\n",
       "      <th></th>\n",
       "      <th>来源详情</th>\n",
       "      <th>您宝宝的性别</th>\n",
       "      <th>(1)您有几个孩子</th>\n",
       "      <th>(2)个孩子，这是您的第___个孩子</th>\n",
       "      <th>宝宝的主要抚养人</th>\n",
       "      <th>请问宝宝的家庭类型是</th>\n",
       "      <th>宝宝母亲的年龄（周岁）</th>\n",
       "      <th>宝宝母亲的文化程度:</th>\n",
       "      <th>宝宝父亲的年龄（周岁）</th>\n",
       "      <th>宝宝父亲文化的程度:</th>\n",
       "      <th>...</th>\n",
       "      <th>经常强迫孩子多吃一点</th>\n",
       "      <th>拥有足量的与年龄适宜的玩具</th>\n",
       "      <th>对孩子任何事情都要干涉</th>\n",
       "      <th>给孩子的诉说、表达或申辩的机会</th>\n",
       "      <th>带孩子到商店、公园</th>\n",
       "      <th>赞赏孩子的好奇心，有意识培养孩子兴趣</th>\n",
       "      <th>无端向孩子发脾气</th>\n",
       "      <th>有意识帮助孩子认知事物，扩大词汇</th>\n",
       "      <th>保持孩子活动的房间清洁、整齐</th>\n",
       "      <th>对孩子的需求能够作出及时的回应.1</th>\n",
       "    </tr>\n",
       "  </thead>\n",
       "  <tbody>\n",
       "    <tr>\n",
       "      <th>0</th>\n",
       "      <td>0</td>\n",
       "      <td>0</td>\n",
       "      <td>1</td>\n",
       "      <td>2</td>\n",
       "      <td>0</td>\n",
       "      <td>0</td>\n",
       "      <td>23</td>\n",
       "      <td>0</td>\n",
       "      <td>36</td>\n",
       "      <td>3</td>\n",
       "      <td>...</td>\n",
       "      <td>0</td>\n",
       "      <td>0</td>\n",
       "      <td>0</td>\n",
       "      <td>0</td>\n",
       "      <td>0</td>\n",
       "      <td>0</td>\n",
       "      <td>0</td>\n",
       "      <td>0</td>\n",
       "      <td>0</td>\n",
       "      <td>0</td>\n",
       "    </tr>\n",
       "    <tr>\n",
       "      <th>1</th>\n",
       "      <td>0</td>\n",
       "      <td>0</td>\n",
       "      <td>2</td>\n",
       "      <td>2</td>\n",
       "      <td>1</td>\n",
       "      <td>1</td>\n",
       "      <td>30</td>\n",
       "      <td>1</td>\n",
       "      <td>31</td>\n",
       "      <td>3</td>\n",
       "      <td>...</td>\n",
       "      <td>-2</td>\n",
       "      <td>5</td>\n",
       "      <td>-5</td>\n",
       "      <td>5</td>\n",
       "      <td>5</td>\n",
       "      <td>5</td>\n",
       "      <td>-2</td>\n",
       "      <td>5</td>\n",
       "      <td>5</td>\n",
       "      <td>5</td>\n",
       "    </tr>\n",
       "    <tr>\n",
       "      <th>2</th>\n",
       "      <td>0</td>\n",
       "      <td>1</td>\n",
       "      <td>2</td>\n",
       "      <td>2</td>\n",
       "      <td>1</td>\n",
       "      <td>0</td>\n",
       "      <td>30</td>\n",
       "      <td>2</td>\n",
       "      <td>34</td>\n",
       "      <td>2</td>\n",
       "      <td>...</td>\n",
       "      <td>0</td>\n",
       "      <td>0</td>\n",
       "      <td>0</td>\n",
       "      <td>0</td>\n",
       "      <td>0</td>\n",
       "      <td>0</td>\n",
       "      <td>0</td>\n",
       "      <td>0</td>\n",
       "      <td>0</td>\n",
       "      <td>0</td>\n",
       "    </tr>\n",
       "    <tr>\n",
       "      <th>4</th>\n",
       "      <td>0</td>\n",
       "      <td>0</td>\n",
       "      <td>2</td>\n",
       "      <td>2</td>\n",
       "      <td>1</td>\n",
       "      <td>1</td>\n",
       "      <td>33</td>\n",
       "      <td>2</td>\n",
       "      <td>37</td>\n",
       "      <td>3</td>\n",
       "      <td>...</td>\n",
       "      <td>0</td>\n",
       "      <td>0</td>\n",
       "      <td>0</td>\n",
       "      <td>0</td>\n",
       "      <td>0</td>\n",
       "      <td>0</td>\n",
       "      <td>0</td>\n",
       "      <td>0</td>\n",
       "      <td>0</td>\n",
       "      <td>0</td>\n",
       "    </tr>\n",
       "    <tr>\n",
       "      <th>5</th>\n",
       "      <td>0</td>\n",
       "      <td>0</td>\n",
       "      <td>2</td>\n",
       "      <td>2</td>\n",
       "      <td>1</td>\n",
       "      <td>0</td>\n",
       "      <td>29</td>\n",
       "      <td>1</td>\n",
       "      <td>30</td>\n",
       "      <td>1</td>\n",
       "      <td>...</td>\n",
       "      <td>0</td>\n",
       "      <td>0</td>\n",
       "      <td>0</td>\n",
       "      <td>0</td>\n",
       "      <td>0</td>\n",
       "      <td>0</td>\n",
       "      <td>0</td>\n",
       "      <td>0</td>\n",
       "      <td>0</td>\n",
       "      <td>0</td>\n",
       "    </tr>\n",
       "  </tbody>\n",
       "</table>\n",
       "<p>5 rows × 139 columns</p>\n",
       "</div>"
      ],
      "text/plain": [
       "   来源详情  您宝宝的性别  (1)您有几个孩子  (2)个孩子，这是您的第___个孩子  宝宝的主要抚养人  请问宝宝的家庭类型是  \\\n",
       "0     0       0          1                   2         0           0   \n",
       "1     0       0          2                   2         1           1   \n",
       "2     0       1          2                   2         1           0   \n",
       "4     0       0          2                   2         1           1   \n",
       "5     0       0          2                   2         1           0   \n",
       "\n",
       "   宝宝母亲的年龄（周岁）  宝宝母亲的文化程度:  宝宝父亲的年龄（周岁）  宝宝父亲文化的程度:  ...  经常强迫孩子多吃一点  \\\n",
       "0           23           0           36           3  ...           0   \n",
       "1           30           1           31           3  ...          -2   \n",
       "2           30           2           34           2  ...           0   \n",
       "4           33           2           37           3  ...           0   \n",
       "5           29           1           30           1  ...           0   \n",
       "\n",
       "   拥有足量的与年龄适宜的玩具  对孩子任何事情都要干涉  给孩子的诉说、表达或申辩的机会  带孩子到商店、公园  赞赏孩子的好奇心，有意识培养孩子兴趣  \\\n",
       "0              0            0                0          0                   0   \n",
       "1              5           -5                5          5                   5   \n",
       "2              0            0                0          0                   0   \n",
       "4              0            0                0          0                   0   \n",
       "5              0            0                0          0                   0   \n",
       "\n",
       "   无端向孩子发脾气  有意识帮助孩子认知事物，扩大词汇  保持孩子活动的房间清洁、整齐  对孩子的需求能够作出及时的回应.1  \n",
       "0         0                 0               0                  0  \n",
       "1        -2                 5               5                  5  \n",
       "2         0                 0               0                  0  \n",
       "4         0                 0               0                  0  \n",
       "5         0                 0               0                  0  \n",
       "\n",
       "[5 rows x 139 columns]"
      ]
     },
     "execution_count": 88,
     "metadata": {},
     "output_type": "execute_result"
    }
   ],
   "source": [
    "data.head()"
   ]
  },
  {
   "cell_type": "markdown",
   "metadata": {},
   "source": [
    "处理问题列，检查内容是否为整数int，将内容本应该为整数，但含有非法值的样本直接删去"
   ]
  },
  {
   "cell_type": "code",
   "execution_count": 89,
   "metadata": {},
   "outputs": [],
   "source": [
    "def remove_not_int (df, columns_to_check):\n",
    "    def is_numeric(s):\n",
    "        try:\n",
    "            int(s)\n",
    "            return True\n",
    "        except ValueError:\n",
    "            return False\n",
    "\n",
    "    mask = df[columns_to_check].applymap(is_numeric).all(axis=1)\n",
    "\n",
    "    df_filtered = df[mask]\n",
    "\n",
    "    return df_filtered"
   ]
  },
  {
   "cell_type": "code",
   "execution_count": 90,
   "metadata": {},
   "outputs": [],
   "source": [
    "columns_to_check = ['(1)您有几个孩子', '(2)个孩子，这是您的第___个孩子', '宝宝母亲的年龄（周岁）', '宝宝父亲的年龄（周岁）'] \n",
    "data = remove_not_int(data, columns_to_check)"
   ]
  },
  {
   "cell_type": "code",
   "execution_count": 91,
   "metadata": {},
   "outputs": [],
   "source": [
    "data['(1)您有几个孩子'] = data['(1)您有几个孩子'].astype(int)\n",
    "data['(2)个孩子，这是您的第___个孩子'] = data['(2)个孩子，这是您的第___个孩子'].astype(int)"
   ]
  },
  {
   "cell_type": "markdown",
   "metadata": {},
   "source": [
    "删除不符合常理的数值"
   ]
  },
  {
   "cell_type": "code",
   "execution_count": 92,
   "metadata": {},
   "outputs": [],
   "source": [
    "data = data[data['(1)您有几个孩子'] <= 10]\n",
    "data = data[data['(2)个孩子，这是您的第___个孩子'] <= 10]"
   ]
  },
  {
   "cell_type": "code",
   "execution_count": 93,
   "metadata": {},
   "outputs": [
    {
     "data": {
      "text/html": [
       "<div>\n",
       "<style scoped>\n",
       "    .dataframe tbody tr th:only-of-type {\n",
       "        vertical-align: middle;\n",
       "    }\n",
       "\n",
       "    .dataframe tbody tr th {\n",
       "        vertical-align: top;\n",
       "    }\n",
       "\n",
       "    .dataframe thead th {\n",
       "        text-align: right;\n",
       "    }\n",
       "</style>\n",
       "<table border=\"1\" class=\"dataframe\">\n",
       "  <thead>\n",
       "    <tr style=\"text-align: right;\">\n",
       "      <th></th>\n",
       "      <th>来源详情</th>\n",
       "      <th>您宝宝的性别</th>\n",
       "      <th>(1)您有几个孩子</th>\n",
       "      <th>(2)个孩子，这是您的第___个孩子</th>\n",
       "      <th>宝宝的主要抚养人</th>\n",
       "      <th>请问宝宝的家庭类型是</th>\n",
       "      <th>宝宝母亲的年龄（周岁）</th>\n",
       "      <th>宝宝母亲的文化程度:</th>\n",
       "      <th>宝宝父亲的年龄（周岁）</th>\n",
       "      <th>宝宝父亲文化的程度:</th>\n",
       "      <th>...</th>\n",
       "      <th>经常强迫孩子多吃一点</th>\n",
       "      <th>拥有足量的与年龄适宜的玩具</th>\n",
       "      <th>对孩子任何事情都要干涉</th>\n",
       "      <th>给孩子的诉说、表达或申辩的机会</th>\n",
       "      <th>带孩子到商店、公园</th>\n",
       "      <th>赞赏孩子的好奇心，有意识培养孩子兴趣</th>\n",
       "      <th>无端向孩子发脾气</th>\n",
       "      <th>有意识帮助孩子认知事物，扩大词汇</th>\n",
       "      <th>保持孩子活动的房间清洁、整齐</th>\n",
       "      <th>对孩子的需求能够作出及时的回应.1</th>\n",
       "    </tr>\n",
       "  </thead>\n",
       "  <tbody>\n",
       "    <tr>\n",
       "      <th>0</th>\n",
       "      <td>0</td>\n",
       "      <td>0</td>\n",
       "      <td>1</td>\n",
       "      <td>2</td>\n",
       "      <td>0</td>\n",
       "      <td>0</td>\n",
       "      <td>23</td>\n",
       "      <td>0</td>\n",
       "      <td>36</td>\n",
       "      <td>3</td>\n",
       "      <td>...</td>\n",
       "      <td>0</td>\n",
       "      <td>0</td>\n",
       "      <td>0</td>\n",
       "      <td>0</td>\n",
       "      <td>0</td>\n",
       "      <td>0</td>\n",
       "      <td>0</td>\n",
       "      <td>0</td>\n",
       "      <td>0</td>\n",
       "      <td>0</td>\n",
       "    </tr>\n",
       "    <tr>\n",
       "      <th>1</th>\n",
       "      <td>0</td>\n",
       "      <td>0</td>\n",
       "      <td>2</td>\n",
       "      <td>2</td>\n",
       "      <td>1</td>\n",
       "      <td>1</td>\n",
       "      <td>30</td>\n",
       "      <td>1</td>\n",
       "      <td>31</td>\n",
       "      <td>3</td>\n",
       "      <td>...</td>\n",
       "      <td>-2</td>\n",
       "      <td>5</td>\n",
       "      <td>-5</td>\n",
       "      <td>5</td>\n",
       "      <td>5</td>\n",
       "      <td>5</td>\n",
       "      <td>-2</td>\n",
       "      <td>5</td>\n",
       "      <td>5</td>\n",
       "      <td>5</td>\n",
       "    </tr>\n",
       "    <tr>\n",
       "      <th>2</th>\n",
       "      <td>0</td>\n",
       "      <td>1</td>\n",
       "      <td>2</td>\n",
       "      <td>2</td>\n",
       "      <td>1</td>\n",
       "      <td>0</td>\n",
       "      <td>30</td>\n",
       "      <td>2</td>\n",
       "      <td>34</td>\n",
       "      <td>2</td>\n",
       "      <td>...</td>\n",
       "      <td>0</td>\n",
       "      <td>0</td>\n",
       "      <td>0</td>\n",
       "      <td>0</td>\n",
       "      <td>0</td>\n",
       "      <td>0</td>\n",
       "      <td>0</td>\n",
       "      <td>0</td>\n",
       "      <td>0</td>\n",
       "      <td>0</td>\n",
       "    </tr>\n",
       "    <tr>\n",
       "      <th>4</th>\n",
       "      <td>0</td>\n",
       "      <td>0</td>\n",
       "      <td>2</td>\n",
       "      <td>2</td>\n",
       "      <td>1</td>\n",
       "      <td>1</td>\n",
       "      <td>33</td>\n",
       "      <td>2</td>\n",
       "      <td>37</td>\n",
       "      <td>3</td>\n",
       "      <td>...</td>\n",
       "      <td>0</td>\n",
       "      <td>0</td>\n",
       "      <td>0</td>\n",
       "      <td>0</td>\n",
       "      <td>0</td>\n",
       "      <td>0</td>\n",
       "      <td>0</td>\n",
       "      <td>0</td>\n",
       "      <td>0</td>\n",
       "      <td>0</td>\n",
       "    </tr>\n",
       "    <tr>\n",
       "      <th>5</th>\n",
       "      <td>0</td>\n",
       "      <td>0</td>\n",
       "      <td>2</td>\n",
       "      <td>2</td>\n",
       "      <td>1</td>\n",
       "      <td>0</td>\n",
       "      <td>29</td>\n",
       "      <td>1</td>\n",
       "      <td>30</td>\n",
       "      <td>1</td>\n",
       "      <td>...</td>\n",
       "      <td>0</td>\n",
       "      <td>0</td>\n",
       "      <td>0</td>\n",
       "      <td>0</td>\n",
       "      <td>0</td>\n",
       "      <td>0</td>\n",
       "      <td>0</td>\n",
       "      <td>0</td>\n",
       "      <td>0</td>\n",
       "      <td>0</td>\n",
       "    </tr>\n",
       "  </tbody>\n",
       "</table>\n",
       "<p>5 rows × 139 columns</p>\n",
       "</div>"
      ],
      "text/plain": [
       "   来源详情  您宝宝的性别  (1)您有几个孩子  (2)个孩子，这是您的第___个孩子  宝宝的主要抚养人  请问宝宝的家庭类型是  \\\n",
       "0     0       0          1                   2         0           0   \n",
       "1     0       0          2                   2         1           1   \n",
       "2     0       1          2                   2         1           0   \n",
       "4     0       0          2                   2         1           1   \n",
       "5     0       0          2                   2         1           0   \n",
       "\n",
       "   宝宝母亲的年龄（周岁）  宝宝母亲的文化程度:  宝宝父亲的年龄（周岁）  宝宝父亲文化的程度:  ...  经常强迫孩子多吃一点  \\\n",
       "0           23           0           36           3  ...           0   \n",
       "1           30           1           31           3  ...          -2   \n",
       "2           30           2           34           2  ...           0   \n",
       "4           33           2           37           3  ...           0   \n",
       "5           29           1           30           1  ...           0   \n",
       "\n",
       "   拥有足量的与年龄适宜的玩具  对孩子任何事情都要干涉  给孩子的诉说、表达或申辩的机会  带孩子到商店、公园  赞赏孩子的好奇心，有意识培养孩子兴趣  \\\n",
       "0              0            0                0          0                   0   \n",
       "1              5           -5                5          5                   5   \n",
       "2              0            0                0          0                   0   \n",
       "4              0            0                0          0                   0   \n",
       "5              0            0                0          0                   0   \n",
       "\n",
       "   无端向孩子发脾气  有意识帮助孩子认知事物，扩大词汇  保持孩子活动的房间清洁、整齐  对孩子的需求能够作出及时的回应.1  \n",
       "0         0                 0               0                  0  \n",
       "1        -2                 5               5                  5  \n",
       "2         0                 0               0                  0  \n",
       "4         0                 0               0                  0  \n",
       "5         0                 0               0                  0  \n",
       "\n",
       "[5 rows x 139 columns]"
      ]
     },
     "execution_count": 93,
     "metadata": {},
     "output_type": "execute_result"
    }
   ],
   "source": [
    "data.head()"
   ]
  },
  {
   "cell_type": "code",
   "execution_count": 110,
   "metadata": {},
   "outputs": [],
   "source": [
    "data = data.reset_index()"
   ]
  },
  {
   "cell_type": "code",
   "execution_count": 111,
   "metadata": {},
   "outputs": [],
   "source": [
    "data.to_csv('data_to_num.csv', index=False) #用于查看"
   ]
  },
  {
   "cell_type": "markdown",
   "metadata": {},
   "source": [
    "## 数据探索"
   ]
  },
  {
   "cell_type": "markdown",
   "metadata": {},
   "source": [
    "### （1）探索不同年龄的养育风险因素"
   ]
  },
  {
   "cell_type": "markdown",
   "metadata": {},
   "source": [
    "按照年龄将data分为三个部分，分别寻找养育风险因素"
   ]
  },
  {
   "cell_type": "code",
   "execution_count": 95,
   "metadata": {},
   "outputs": [],
   "source": [
    "data.iloc[:, 13:] = data.iloc[:, 13:].apply(pd.to_numeric, errors='coerce').astype(int)"
   ]
  },
  {
   "cell_type": "code",
   "execution_count": 96,
   "metadata": {},
   "outputs": [],
   "source": [
    "df1 = data[data['您的宝宝年龄'] == 0]\n",
    "df2 = data[data['您的宝宝年龄'] == 1]\n",
    "df3 = data[data['您的宝宝年龄'] == 2]"
   ]
  },
  {
   "cell_type": "markdown",
   "metadata": {},
   "source": [
    "先对df1分析"
   ]
  },
  {
   "cell_type": "code",
   "execution_count": 97,
   "metadata": {},
   "outputs": [],
   "source": [
    "column_sums = df1.iloc[:, 13:].sum(axis=0) # 对每一列求和"
   ]
  },
  {
   "cell_type": "code",
   "execution_count": 98,
   "metadata": {},
   "outputs": [],
   "source": [
    "q15 = column_sums.quantile(0.15)\n",
    "sorted_sums = column_sums.sort_values()\n",
    "columns_below_q15 = sorted_sums[sorted_sums.lt(q15)].index"
   ]
  },
  {
   "cell_type": "code",
   "execution_count": 99,
   "metadata": {},
   "outputs": [
    {
     "name": "stdout",
     "output_type": "stream",
     "text": [
      "当孩子出现与平常不一样的表现便很着急              -5041\n",
      "感到带孩子很累、很烦                      -3039\n",
      "总担心孩子出事，把孩子限制得很死                -2839\n",
      "终日在外忙碌，很少有时间见到孩子                -2575\n",
      "为了家庭或孩子的事情争吵、闹别扭                -2527\n",
      "                                 ... \n",
      "对孩子的需求能够作出及时的回应                  5921\n",
      "0~1岁儿童家庭养育环境问卷—孩子活动的房间保持清洁、整齐    6020\n",
      "有意识的和孩子说话                        6081\n",
      "与孩子有肢体、目光的接触或交流                  6089\n",
      "孩子由亲生父母亲自看护                      6187\n",
      "Length: 126, dtype: int64\n"
     ]
    }
   ],
   "source": [
    "print(sorted_sums) # 对列和进行排列"
   ]
  },
  {
   "cell_type": "code",
   "execution_count": 100,
   "metadata": {},
   "outputs": [
    {
     "name": "stdout",
     "output_type": "stream",
     "text": [
      "df1后15%的列:\n",
      "当孩子出现与平常不一样的表现便很着急\n",
      "感到带孩子很累、很烦\n",
      "总担心孩子出事，把孩子限制得很死\n",
      "终日在外忙碌，很少有时间见到孩子\n",
      "为了家庭或孩子的事情争吵、闹别扭\n",
      "凭自己心情对孩子忽冷忽热\n",
      "把孩子捆扎得很紧，孩子四肢手足难以活动\n",
      "不太喜欢孩子，不愿和孩子在一起\n"
     ]
    }
   ],
   "source": [
    "print(\"df1后15%的列:\")\n",
    "for column in columns_below_q15:\n",
    "    print(column)"
   ]
  },
  {
   "cell_type": "markdown",
   "metadata": {},
   "source": [
    "对df2分析"
   ]
  },
  {
   "cell_type": "code",
   "execution_count": 101,
   "metadata": {},
   "outputs": [],
   "source": [
    "column_sums = df2.iloc[:, 13:].sum(axis=0) # 对每一列求和"
   ]
  },
  {
   "cell_type": "code",
   "execution_count": 102,
   "metadata": {},
   "outputs": [],
   "source": [
    "q15 = column_sums.quantile(0.15)\n",
    "sorted_sums = column_sums.sort_values()\n",
    "columns_below_q15 = sorted_sums[sorted_sums.lt(q15)].index"
   ]
  },
  {
   "cell_type": "code",
   "execution_count": 103,
   "metadata": {},
   "outputs": [
    {
     "name": "stdout",
     "output_type": "stream",
     "text": [
      "经常强迫孩子多吃一点                 -110554\n",
      "对孩子任何事情都要干涉                -109682\n",
      "感到带孩子很累、很烦.1               -108952\n",
      "用恐怖的意象或故事(如大灰狼)吓阻孩子的自主行为   -104135\n",
      "为家庭或孩子的事情而争吵               -102901\n",
      "                             ...  \n",
      "对孩子的良好行为及时进行肯定、鼓励           196070\n",
      "鼓励孩子生活自理(吃饭、穿衣、洗漱)          196070\n",
      "有意识按照公共准则引导和规范孩子的行为.1       197123\n",
      "感到孩子可爱，愿意和孩子在一起             197574\n",
      "拥抱、爱抚孩子                     199819\n",
      "Length: 126, dtype: int64\n"
     ]
    }
   ],
   "source": [
    "print(sorted_sums) # 对列和进行排列"
   ]
  },
  {
   "cell_type": "code",
   "execution_count": 104,
   "metadata": {},
   "outputs": [
    {
     "name": "stdout",
     "output_type": "stream",
     "text": [
      "df2后15%的列:\n",
      "经常强迫孩子多吃一点\n",
      "对孩子任何事情都要干涉\n",
      "感到带孩子很累、很烦.1\n",
      "用恐怖的意象或故事(如大灰狼)吓阻孩子的自主行为\n",
      "为家庭或孩子的事情而争吵\n",
      "惩罚(叱骂、打屁股、罚站等)孩子.1\n",
      "总担心出事，把孩子限制得很死.1\n",
      "亲子出现敌对或冲突\n",
      "凭自己心情对孩子忽冷忽热.2\n",
      "无端向孩子发脾气\n"
     ]
    }
   ],
   "source": [
    "print(\"df2后15%的列:\")\n",
    "for column in columns_below_q15:\n",
    "    print(column)"
   ]
  },
  {
   "cell_type": "markdown",
   "metadata": {},
   "source": [
    "对df3分析"
   ]
  },
  {
   "cell_type": "code",
   "execution_count": 105,
   "metadata": {},
   "outputs": [],
   "source": [
    "column_sums = df3.iloc[:, 13:].sum(axis=0) # 对每一列求和"
   ]
  },
  {
   "cell_type": "code",
   "execution_count": 106,
   "metadata": {},
   "outputs": [],
   "source": [
    "q15 = column_sums.quantile(0.15)\n",
    "sorted_sums = column_sums.sort_values()\n",
    "columns_below_q15 = sorted_sums[sorted_sums.lt(q15)].index"
   ]
  },
  {
   "cell_type": "code",
   "execution_count": 107,
   "metadata": {},
   "outputs": [
    {
     "name": "stdout",
     "output_type": "stream",
     "text": [
      "感到带孩子很烦、很累                  -7803\n",
      "总担心出事，把孩子限制得很死              -7170\n",
      "惩罚(叱骂、打屁股、罚站等)孩子            -6962\n",
      "用恐怖的意象或故事(如大灰狼)吓唬孩子的自主行为    -6954\n",
      "为家庭或孩子的事情而争吵、闹别扭            -6640\n",
      "                            ...  \n",
      "鼓励孩子用语言表达自己的要求              13620\n",
      "与孩子经常有肢体、目光、言语的接触或交流        13684\n",
      "感到孩子可爱，喜欢和孩子在一起             13718\n",
      "家庭气氛融洽                      13740\n",
      "亲吻、拥抱、爱抚孩子.1                13957\n",
      "Length: 126, dtype: int64\n"
     ]
    }
   ],
   "source": [
    "print(sorted_sums) # 对列和进行排列"
   ]
  },
  {
   "cell_type": "code",
   "execution_count": 108,
   "metadata": {},
   "outputs": [
    {
     "name": "stdout",
     "output_type": "stream",
     "text": [
      "df3后15%的列:\n",
      "感到带孩子很烦、很累\n",
      "总担心出事，把孩子限制得很死\n",
      "惩罚(叱骂、打屁股、罚站等)孩子\n",
      "用恐怖的意象或故事(如大灰狼)吓唬孩子的自主行为\n",
      "为家庭或孩子的事情而争吵、闹别扭\n",
      "凭自己心情对孩子忽冷忽热.1\n",
      "不喜欢孩子，不愿和孩子在一起\n"
     ]
    }
   ],
   "source": [
    "print(\"df3后15%的列:\")\n",
    "for column in columns_below_q15:\n",
    "    print(column)"
   ]
  }
 ],
 "metadata": {
  "kernelspec": {
   "display_name": "ML",
   "language": "python",
   "name": "python3"
  },
  "language_info": {
   "codemirror_mode": {
    "name": "ipython",
    "version": 3
   },
   "file_extension": ".py",
   "mimetype": "text/x-python",
   "name": "python",
   "nbconvert_exporter": "python",
   "pygments_lexer": "ipython3",
   "version": "3.11.8"
  }
 },
 "nbformat": 4,
 "nbformat_minor": 2
}
