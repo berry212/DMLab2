{
 "cells": [
  {
   "cell_type": "code",
   "execution_count": 17,
   "metadata": {},
   "outputs": [],
   "source": [
    "import pandas as pd\n",
    "import numpy as np\n",
    "\n",
    "df = pd.read_excel('data.xlsx')"
   ]
  },
  {
   "cell_type": "code",
   "execution_count": 18,
   "metadata": {},
   "outputs": [
    {
     "data": {
      "text/html": [
       "<div>\n",
       "<style scoped>\n",
       "    .dataframe tbody tr th:only-of-type {\n",
       "        vertical-align: middle;\n",
       "    }\n",
       "\n",
       "    .dataframe tbody tr th {\n",
       "        vertical-align: top;\n",
       "    }\n",
       "\n",
       "    .dataframe thead th {\n",
       "        text-align: right;\n",
       "    }\n",
       "</style>\n",
       "<table border=\"1\" class=\"dataframe\">\n",
       "  <thead>\n",
       "    <tr style=\"text-align: right;\">\n",
       "      <th></th>\n",
       "      <th>序号</th>\n",
       "      <th>来源详情</th>\n",
       "      <th>您宝宝的性别</th>\n",
       "      <th>您的宝宝的出生日期：</th>\n",
       "      <th>(1)您有几个孩子</th>\n",
       "      <th>(2)个孩子，这是您的第___个孩子</th>\n",
       "      <th>宝宝的主要抚养人</th>\n",
       "      <th>请问宝宝的家庭类型是</th>\n",
       "      <th>宝宝母亲的年龄（周岁）</th>\n",
       "      <th>宝宝母亲的文化程度:</th>\n",
       "      <th>...</th>\n",
       "      <th>拥有足量的与年龄适宜的玩具</th>\n",
       "      <th>对孩子任何事情都要干涉</th>\n",
       "      <th>给孩子的诉说、表达或申辩的机会</th>\n",
       "      <th>带孩子到商店、公园</th>\n",
       "      <th>赞赏孩子的好奇心，有意识培养孩子兴趣</th>\n",
       "      <th>无端向孩子发脾气</th>\n",
       "      <th>有意识帮助孩子认知事物，扩大词汇</th>\n",
       "      <th>保持孩子活动的房间清洁、整齐</th>\n",
       "      <th>对孩子的需求能够作出及时的回应.1</th>\n",
       "      <th>总分</th>\n",
       "    </tr>\n",
       "  </thead>\n",
       "  <tbody>\n",
       "    <tr>\n",
       "      <th>0</th>\n",
       "      <td>1</td>\n",
       "      <td>NaN</td>\n",
       "      <td>男</td>\n",
       "      <td>2023-06-20</td>\n",
       "      <td>1</td>\n",
       "      <td>2</td>\n",
       "      <td>保姆阿姨</td>\n",
       "      <td>联合家庭（宝宝、父母、祖父母（或外祖父母）三代一起居住）</td>\n",
       "      <td>23</td>\n",
       "      <td>初中及以下</td>\n",
       "      <td>...</td>\n",
       "      <td>(跳过)</td>\n",
       "      <td>(跳过)</td>\n",
       "      <td>(跳过)</td>\n",
       "      <td>(跳过)</td>\n",
       "      <td>(跳过)</td>\n",
       "      <td>(跳过)</td>\n",
       "      <td>(跳过)</td>\n",
       "      <td>(跳过)</td>\n",
       "      <td>(跳过)</td>\n",
       "      <td>62</td>\n",
       "    </tr>\n",
       "  </tbody>\n",
       "</table>\n",
       "<p>1 rows × 142 columns</p>\n",
       "</div>"
      ],
      "text/plain": [
       "   序号 来源详情 您宝宝的性别  您的宝宝的出生日期： (1)您有几个孩子 (2)个孩子，这是您的第___个孩子 宝宝的主要抚养人  \\\n",
       "0   1  NaN      男  2023-06-20         1                  2     保姆阿姨   \n",
       "\n",
       "                     请问宝宝的家庭类型是 宝宝母亲的年龄（周岁） 宝宝母亲的文化程度:  ... 拥有足量的与年龄适宜的玩具  \\\n",
       "0  联合家庭（宝宝、父母、祖父母（或外祖父母）三代一起居住）          23      初中及以下  ...          (跳过)   \n",
       "\n",
       "  对孩子任何事情都要干涉 给孩子的诉说、表达或申辩的机会 带孩子到商店、公园 赞赏孩子的好奇心，有意识培养孩子兴趣 无端向孩子发脾气  \\\n",
       "0        (跳过)            (跳过)      (跳过)               (跳过)     (跳过)   \n",
       "\n",
       "  有意识帮助孩子认知事物，扩大词汇 保持孩子活动的房间清洁、整齐 对孩子的需求能够作出及时的回应.1  总分  \n",
       "0             (跳过)           (跳过)              (跳过)  62  \n",
       "\n",
       "[1 rows x 142 columns]"
      ]
     },
     "execution_count": 18,
     "metadata": {},
     "output_type": "execute_result"
    }
   ],
   "source": [
    "df.head(1)"
   ]
  },
  {
   "cell_type": "code",
   "execution_count": 19,
   "metadata": {},
   "outputs": [
    {
     "data": {
      "text/plain": [
       "(52640, 142)"
      ]
     },
     "execution_count": 19,
     "metadata": {},
     "output_type": "execute_result"
    }
   ],
   "source": [
    "df.shape"
   ]
  },
  {
   "cell_type": "code",
   "execution_count": 20,
   "metadata": {},
   "outputs": [
    {
     "data": {
      "text/plain": [
       "Index(['序号', '来源详情', '您宝宝的性别', '您的宝宝的出生日期：', '(1)您有几个孩子', '(2)个孩子，这是您的第___个孩子',\n",
       "       '宝宝的主要抚养人', '请问宝宝的家庭类型是', '宝宝母亲的年龄（周岁）', '宝宝母亲的文化程度:',\n",
       "       ...\n",
       "       '拥有足量的与年龄适宜的玩具', '对孩子任何事情都要干涉', '给孩子的诉说、表达或申辩的机会', '带孩子到商店、公园',\n",
       "       '赞赏孩子的好奇心，有意识培养孩子兴趣', '无端向孩子发脾气', '有意识帮助孩子认知事物，扩大词汇', '保持孩子活动的房间清洁、整齐',\n",
       "       '对孩子的需求能够作出及时的回应.1', '总分'],\n",
       "      dtype='object', length=142)"
      ]
     },
     "execution_count": 20,
     "metadata": {},
     "output_type": "execute_result"
    }
   ],
   "source": [
    "df.columns"
   ]
  },
  {
   "cell_type": "markdown",
   "metadata": {},
   "source": [
    "## 数据预处理"
   ]
  },
  {
   "cell_type": "code",
   "execution_count": 21,
   "metadata": {},
   "outputs": [
    {
     "name": "stdout",
     "output_type": "stream",
     "text": [
      "总实例数 52640\n",
      "缺失特征名: 来源详情 \n",
      "缺失: 43121\n"
     ]
    }
   ],
   "source": [
    "print('总实例数', df.shape[0])\n",
    "nullValue = df.isnull().sum()\n",
    "for i in range(len(nullValue)):\n",
    "    if nullValue[i] != 0 :\n",
    "        print('缺失特征名:', df.columns[i], '\\n缺失:', nullValue[i])"
   ]
  },
  {
   "cell_type": "markdown",
   "metadata": {},
   "source": [
    "缺失值填充，`来源详情` 的 `NAN` 填充为 `0`"
   ]
  },
  {
   "cell_type": "code",
   "execution_count": 22,
   "metadata": {},
   "outputs": [
    {
     "data": {
      "text/plain": [
       "序号                   False\n",
       "来源详情                 False\n",
       "您宝宝的性别               False\n",
       "您的宝宝的出生日期：           False\n",
       "(1)您有几个孩子            False\n",
       "                     ...  \n",
       "无端向孩子发脾气             False\n",
       "有意识帮助孩子认知事物，扩大词汇     False\n",
       "保持孩子活动的房间清洁、整齐       False\n",
       "对孩子的需求能够作出及时的回应.1    False\n",
       "总分                   False\n",
       "Length: 142, dtype: bool"
      ]
     },
     "execution_count": 22,
     "metadata": {},
     "output_type": "execute_result"
    }
   ],
   "source": [
    "df.fillna(0, axis=1, inplace=True)\n",
    "df.isnull().any()"
   ]
  },
  {
   "cell_type": "markdown",
   "metadata": {},
   "source": [
    "序号和出生日期是无用的，删去这两列\n",
    "\n",
    "分割目标列，总分"
   ]
  },
  {
   "cell_type": "code",
   "execution_count": 23,
   "metadata": {},
   "outputs": [],
   "source": [
    "df_drop = df.drop(columns=['序号', '您的宝宝的出生日期：'], axis=1)\n",
    "\n",
    "data = df_drop.drop('总分', axis=1)\n",
    "target = df_drop['总分']\n",
    "\n",
    "feature = data.columns"
   ]
  },
  {
   "cell_type": "markdown",
   "metadata": {},
   "source": [
    "输出每一个问题的答案种类到文件 `value.txt`"
   ]
  },
  {
   "cell_type": "code",
   "execution_count": 24,
   "metadata": {},
   "outputs": [],
   "source": [
    "def saveUnique(df, feature, fileName):\n",
    "    file = open(fileName, 'w+')\n",
    "    for i in feature:\n",
    "        print(df[i].unique(), file=file)\n",
    "    file.close()\n",
    "\n",
    "def lookUnique(df, feature):\n",
    "    for i in feature:\n",
    "        print(df[i].unique())\n",
    "\n",
    "\n",
    "saveUnique(data, feature, 'value.txt')"
   ]
  },
  {
   "cell_type": "code",
   "execution_count": 25,
   "metadata": {},
   "outputs": [],
   "source": [
    "decoder = lambda a : dict(zip( a, range(len(a)) ))\n",
    "dicList = [\n",
    "    decoder([0, '直接访问']),\n",
    "    decoder(['男', '女']),\n",
    "    {'1':1, '2':2, '3':3, '一':1, '二':2, '三':3, '俩':2, '两':2, '两个':2, '一个':1, '4':4,\n",
    "     '四':4, '5':5, '五':5, '三个':3, '四个':4, '五个':5}, # (1)您有几个孩子\n",
    "    {'1':1, '2':2, '3':3, '一':1, '二':2, '三':3, '俩':2, '两':2, '两个':2, '一个':1, '4':4,\n",
    "     '四':4, '5':5, '五':5, '三个':3, '四个':4, '五个':5, '第一':1, '第一个':1, '第二':2, '第二个':2}, # (2)个孩子，这是您的第___个孩子\n",
    "    {'保姆阿姨':0, '父母':1, '外祖父母或祖父母':2}, # 宝宝的主要抚养人\n",
    "    decoder(['联合家庭（宝宝、父母、祖父母（或外祖父母）三代一起居住）','核心家庭（宝宝与父母一起居住）','其他（单亲、再婚等）']), # 请问宝宝的家庭类型是\n",
    "    {}, # 宝宝母亲的年龄（周岁） \n",
    "    decoder(['初中及以下','本科','大专','高中及中专','研究生','博士生']), # 宝宝母亲的文化程度:\n",
    "    {}, # 宝宝父亲的年龄（周岁）\n",
    "    decoder(['初中及以下','本科','大专','高中及中专','研究生','博士生']), # 宝宝父亲文化的程度:\n",
    "    decoder(['很好','一般','比较差','比较好','很差']), # 最近一年，您家庭经济情况如何:\n",
    "    decoder(['县级市', '涉农区', '城区']), # 您宝宝本次体检的社区属于什么区？\n",
    "    decoder(['0~1岁', '3~6岁', '1~3岁']), # 您的宝宝年龄\n",
    "]\n",
    "\n",
    "len(dicList) # 来源详情 + 基本问题 = 1 + 12\n",
    "for i in range(13):\n",
    "    data.replace({feature[i]:dicList[i]}, inplace=True)"
   ]
  },
  {
   "cell_type": "code",
   "execution_count": 26,
   "metadata": {},
   "outputs": [],
   "source": [
    "saveUnique(data, feature, \"valueA.txt\")"
   ]
  },
  {
   "cell_type": "code",
   "execution_count": 27,
   "metadata": {},
   "outputs": [],
   "source": [
    "opstr = lambda x: 3 if isinstance(x, str) and x.startswith('其他') else (x if isinstance(x, int) else -1)\n",
    "data[feature[4]] = data[feature[4]].apply(opstr)"
   ]
  },
  {
   "cell_type": "code",
   "execution_count": 28,
   "metadata": {},
   "outputs": [],
   "source": [
    "opnum = lambda x: int(x) if isinstance(x, str) and len(x) <= 2 and x.isdigit() else (-1 if isinstance(x, str) else x)\n",
    "for i in [6, 8]:\n",
    "    data[feature[i]] = data[feature[i]].apply(opnum)\n",
    "saveUnique(data, feature, \"valueB.txt\")"
   ]
  },
  {
   "cell_type": "code",
   "execution_count": 29,
   "metadata": {},
   "outputs": [],
   "source": [
    "opinvaild = lambda x: -1 if isinstance(x, str) else x\n",
    "for i in [2, 3]:\n",
    "    data[feature[i]] = data[feature[i]].apply(opinvaild)\n",
    "saveUnique(data, feature, \"valueC.txt\")"
   ]
  },
  {
   "cell_type": "code",
   "execution_count": 33,
   "metadata": {},
   "outputs": [
    {
     "data": {
      "text/html": [
       "<div>\n",
       "<style scoped>\n",
       "    .dataframe tbody tr th:only-of-type {\n",
       "        vertical-align: middle;\n",
       "    }\n",
       "\n",
       "    .dataframe tbody tr th {\n",
       "        vertical-align: top;\n",
       "    }\n",
       "\n",
       "    .dataframe thead th {\n",
       "        text-align: right;\n",
       "    }\n",
       "</style>\n",
       "<table border=\"1\" class=\"dataframe\">\n",
       "  <thead>\n",
       "    <tr style=\"text-align: right;\">\n",
       "      <th></th>\n",
       "      <th>来源详情</th>\n",
       "      <th>您宝宝的性别</th>\n",
       "      <th>(1)您有几个孩子</th>\n",
       "      <th>(2)个孩子，这是您的第___个孩子</th>\n",
       "      <th>宝宝的主要抚养人</th>\n",
       "      <th>请问宝宝的家庭类型是</th>\n",
       "      <th>宝宝母亲的年龄（周岁）</th>\n",
       "      <th>宝宝母亲的文化程度:</th>\n",
       "      <th>宝宝父亲的年龄（周岁）</th>\n",
       "      <th>宝宝父亲文化的程度:</th>\n",
       "      <th>...</th>\n",
       "      <th>经常强迫孩子多吃一点</th>\n",
       "      <th>拥有足量的与年龄适宜的玩具</th>\n",
       "      <th>对孩子任何事情都要干涉</th>\n",
       "      <th>给孩子的诉说、表达或申辩的机会</th>\n",
       "      <th>带孩子到商店、公园</th>\n",
       "      <th>赞赏孩子的好奇心，有意识培养孩子兴趣</th>\n",
       "      <th>无端向孩子发脾气</th>\n",
       "      <th>有意识帮助孩子认知事物，扩大词汇</th>\n",
       "      <th>保持孩子活动的房间清洁、整齐</th>\n",
       "      <th>对孩子的需求能够作出及时的回应.1</th>\n",
       "    </tr>\n",
       "  </thead>\n",
       "  <tbody>\n",
       "    <tr>\n",
       "      <th>0</th>\n",
       "      <td>0</td>\n",
       "      <td>0</td>\n",
       "      <td>1</td>\n",
       "      <td>2</td>\n",
       "      <td>0</td>\n",
       "      <td>0</td>\n",
       "      <td>23</td>\n",
       "      <td>0</td>\n",
       "      <td>36</td>\n",
       "      <td>3</td>\n",
       "      <td>...</td>\n",
       "      <td>(跳过)</td>\n",
       "      <td>(跳过)</td>\n",
       "      <td>(跳过)</td>\n",
       "      <td>(跳过)</td>\n",
       "      <td>(跳过)</td>\n",
       "      <td>(跳过)</td>\n",
       "      <td>(跳过)</td>\n",
       "      <td>(跳过)</td>\n",
       "      <td>(跳过)</td>\n",
       "      <td>(跳过)</td>\n",
       "    </tr>\n",
       "    <tr>\n",
       "      <th>1</th>\n",
       "      <td>0</td>\n",
       "      <td>0</td>\n",
       "      <td>2</td>\n",
       "      <td>2</td>\n",
       "      <td>1</td>\n",
       "      <td>1</td>\n",
       "      <td>30</td>\n",
       "      <td>1</td>\n",
       "      <td>31</td>\n",
       "      <td>3</td>\n",
       "      <td>...</td>\n",
       "      <td>很少</td>\n",
       "      <td>总是</td>\n",
       "      <td>总是</td>\n",
       "      <td>总是</td>\n",
       "      <td>总是</td>\n",
       "      <td>总是</td>\n",
       "      <td>很少</td>\n",
       "      <td>总是</td>\n",
       "      <td>总是</td>\n",
       "      <td>总是</td>\n",
       "    </tr>\n",
       "    <tr>\n",
       "      <th>2</th>\n",
       "      <td>0</td>\n",
       "      <td>1</td>\n",
       "      <td>2</td>\n",
       "      <td>2</td>\n",
       "      <td>1</td>\n",
       "      <td>0</td>\n",
       "      <td>30</td>\n",
       "      <td>2</td>\n",
       "      <td>34</td>\n",
       "      <td>2</td>\n",
       "      <td>...</td>\n",
       "      <td>(跳过)</td>\n",
       "      <td>(跳过)</td>\n",
       "      <td>(跳过)</td>\n",
       "      <td>(跳过)</td>\n",
       "      <td>(跳过)</td>\n",
       "      <td>(跳过)</td>\n",
       "      <td>(跳过)</td>\n",
       "      <td>(跳过)</td>\n",
       "      <td>(跳过)</td>\n",
       "      <td>(跳过)</td>\n",
       "    </tr>\n",
       "  </tbody>\n",
       "</table>\n",
       "<p>3 rows × 139 columns</p>\n",
       "</div>"
      ],
      "text/plain": [
       "   来源详情  您宝宝的性别  (1)您有几个孩子  (2)个孩子，这是您的第___个孩子  宝宝的主要抚养人  请问宝宝的家庭类型是  \\\n",
       "0     0       0          1                   2         0           0   \n",
       "1     0       0          2                   2         1           1   \n",
       "2     0       1          2                   2         1           0   \n",
       "\n",
       "   宝宝母亲的年龄（周岁）  宝宝母亲的文化程度:  宝宝父亲的年龄（周岁）  宝宝父亲文化的程度:  ...  经常强迫孩子多吃一点  \\\n",
       "0           23           0           36           3  ...        (跳过)   \n",
       "1           30           1           31           3  ...          很少   \n",
       "2           30           2           34           2  ...        (跳过)   \n",
       "\n",
       "   拥有足量的与年龄适宜的玩具  对孩子任何事情都要干涉 给孩子的诉说、表达或申辩的机会 带孩子到商店、公园 赞赏孩子的好奇心，有意识培养孩子兴趣  \\\n",
       "0           (跳过)         (跳过)            (跳过)      (跳过)               (跳过)   \n",
       "1             总是           总是              总是        总是                 总是   \n",
       "2           (跳过)         (跳过)            (跳过)      (跳过)               (跳过)   \n",
       "\n",
       "  无端向孩子发脾气 有意识帮助孩子认知事物，扩大词汇 保持孩子活动的房间清洁、整齐 对孩子的需求能够作出及时的回应.1  \n",
       "0     (跳过)             (跳过)           (跳过)              (跳过)  \n",
       "1       很少               总是             总是                总是  \n",
       "2     (跳过)             (跳过)           (跳过)              (跳过)  \n",
       "\n",
       "[3 rows x 139 columns]"
      ]
     },
     "execution_count": 33,
     "metadata": {},
     "output_type": "execute_result"
    }
   ],
   "source": [
    "mask = ~data.isin([-1]).any(axis=1)\n",
    "data = data[mask]\n",
    "data.head(3)"
   ]
  },
  {
   "cell_type": "code",
   "execution_count": 34,
   "metadata": {},
   "outputs": [],
   "source": [
    "saveUnique(data, feature, 'result.txt')"
   ]
  },
  {
   "cell_type": "code",
   "execution_count": 35,
   "metadata": {},
   "outputs": [
    {
     "data": {
      "text/plain": [
       "(52010, 139)"
      ]
     },
     "execution_count": 35,
     "metadata": {},
     "output_type": "execute_result"
    }
   ],
   "source": [
    "data.shape"
   ]
  },
  {
   "cell_type": "markdown",
   "metadata": {},
   "source": [
    "处理问题列"
   ]
  },
  {
   "cell_type": "code",
   "execution_count": null,
   "metadata": {},
   "outputs": [],
   "source": []
  },
  {
   "cell_type": "code",
   "execution_count": 36,
   "metadata": {},
   "outputs": [],
   "source": [
    "f = open('tmp', 'w+')\n",
    "for i in feature:\n",
    "    print(i, file=f)\n",
    "f.close()"
   ]
  },
  {
   "cell_type": "code",
   "execution_count": null,
   "metadata": {},
   "outputs": [],
   "source": []
  }
 ],
 "metadata": {
  "kernelspec": {
   "display_name": "ML",
   "language": "python",
   "name": "python3"
  },
  "language_info": {
   "codemirror_mode": {
    "name": "ipython",
    "version": 3
   },
   "file_extension": ".py",
   "mimetype": "text/x-python",
   "name": "python",
   "nbconvert_exporter": "python",
   "pygments_lexer": "ipython3",
   "version": "3.11.8"
  }
 },
 "nbformat": 4,
 "nbformat_minor": 2
}
