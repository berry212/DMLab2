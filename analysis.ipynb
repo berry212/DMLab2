{
 "cells": [
  {
   "cell_type": "code",
   "execution_count": 32,
   "metadata": {},
   "outputs": [],
   "source": [
    "import pandas as pd\n",
    "import numpy as np\n",
    "import matplotlib.pyplot as plt\n",
    "\n",
    "data = pd.read_csv('data_num.csv')\n",
    "target = pd.read_csv('target_num.csv')\n",
    "feature = data.columns"
   ]
  },
  {
   "cell_type": "markdown",
   "metadata": {},
   "source": [
    "## 1. 不同标准下，主要养育风险因素"
   ]
  },
  {
   "cell_type": "code",
   "execution_count": 47,
   "metadata": {},
   "outputs": [],
   "source": [
    "import os\n",
    "\n",
    "\n",
    "def outRisk(df, featureName, fp=None):\n",
    "    if fp :\n",
    "        for i in df[featureName].unique():\n",
    "            dfi = df[df[featureName] == i]\n",
    "\n",
    "            column_sums = dfi.iloc[:, 13:].sum(axis=0) # 对每一列求和\n",
    "            q15 = column_sums.quantile(0.15)\n",
    "            sorted_sums = column_sums.sort_values()\n",
    "            columns_below_q15 = sorted_sums[sorted_sums.lt(q15)].index\n",
    "\n",
    "            print(f'{featureName} == {i} 的后15%的特征:', file=fp)\n",
    "            for column in columns_below_q15:\n",
    "                print(column, file=fp)\n",
    "            print(file=fp)\n",
    "    else:\n",
    "        for i in df[featureName].unique():\n",
    "            dfi = df[df[featureName] == i]\n",
    "\n",
    "            column_sums = dfi.iloc[:, 13:].sum(axis=0) # 对每一列求和\n",
    "            q15 = column_sums.quantile(0.15)\n",
    "            sorted_sums = column_sums.sort_values()\n",
    "            columns_below_q15 = sorted_sums[sorted_sums.lt(q15)].index\n",
    "\n",
    "            print(f'{featureName} == {i} 的后15%的特征:')\n",
    "            for column in columns_below_q15:\n",
    "                print(column)\n",
    "            print()"
   ]
  },
  {
   "cell_type": "code",
   "execution_count": 48,
   "metadata": {},
   "outputs": [],
   "source": [
    "fp = open(os.path.join('out', 'risk.txt'), 'w+')\n",
    "\n",
    "for i in feature[1:13]:\n",
    "    outRisk(data, i, fp)\n",
    "\n",
    "fp.close()"
   ]
  },
  {
   "cell_type": "code",
   "execution_count": null,
   "metadata": {},
   "outputs": [],
   "source": []
  }
 ],
 "metadata": {
  "kernelspec": {
   "display_name": "ML",
   "language": "python",
   "name": "python3"
  },
  "language_info": {
   "codemirror_mode": {
    "name": "ipython",
    "version": 3
   },
   "file_extension": ".py",
   "mimetype": "text/x-python",
   "name": "python",
   "nbconvert_exporter": "python",
   "pygments_lexer": "ipython3",
   "version": "3.11.8"
  }
 },
 "nbformat": 4,
 "nbformat_minor": 2
}
